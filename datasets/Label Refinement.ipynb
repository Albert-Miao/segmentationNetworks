{
 "cells": [
  {
   "cell_type": "markdown",
   "metadata": {},
   "source": [
    "## Label Refinement\n",
    "This notebook is used for refining labels in manually segmented images (for semantic segmentation). Manual annotation usually causes changes in pixel values near object boundaries. This notebook caters to refine that."
   ]
  },
  {
   "cell_type": "code",
   "execution_count": 1,
   "metadata": {},
   "outputs": [],
   "source": [
    "import numpy as np\n",
    "import cv2\n",
    "import json\n",
    "import os"
   ]
  },
  {
   "cell_type": "code",
   "execution_count": 2,
   "metadata": {},
   "outputs": [],
   "source": [
    "# Specify the dataset directories and the classes file path\n",
    "data_dir = '/m2caiSeg dataset'\n",
    "json_path = 'miccaiSegClasses.json'\n",
    "\n",
    "# Save directory\n",
    "save_dir = '/home/salman/pytorch/segmentationNetworks/datasets/miccaiSegRefined'\n",
    "\n",
    "if not os.path.exists(save_dir):\n",
    "    os.makedirs(save_dir)"
   ]
  },
  {
   "cell_type": "code",
   "execution_count": 2,
   "metadata": {},
   "outputs": [
    {
     "ename": "NameError",
     "evalue": "name 'data_dir' is not defined",
     "output_type": "error",
     "traceback": [
      "\u001B[1;31m---------------------------------------------------------------------------\u001B[0m",
      "\u001B[1;31mNameError\u001B[0m                                 Traceback (most recent call last)",
      "\u001B[1;32m<ipython-input-2-70c2eda063f5>\u001B[0m in \u001B[0;36m<module>\u001B[1;34m\u001B[0m\n\u001B[1;32m----> 1\u001B[1;33m files = {x: [os.path.join(data_dir, x, 'groundtruth', f) for f in os.listdir(os.path.join(data_dir, x, 'groundtruth')) \n\u001B[0m\u001B[0;32m      2\u001B[0m          if (f.endswith('.jpg') or f.endswith('.png'))]\n\u001B[0;32m      3\u001B[0m          for x in ['train', 'test', 'trainval']}\n\u001B[0;32m      4\u001B[0m \u001B[1;33m\u001B[0m\u001B[0m\n",
      "\u001B[1;32m<ipython-input-2-70c2eda063f5>\u001B[0m in \u001B[0;36m<dictcomp>\u001B[1;34m(.0)\u001B[0m\n\u001B[1;32m----> 1\u001B[1;33m files = {x: [os.path.join(data_dir, x, 'groundtruth', f) for f in os.listdir(os.path.join(data_dir, x, 'groundtruth')) \n\u001B[0m\u001B[0;32m      2\u001B[0m          if (f.endswith('.jpg') or f.endswith('.png'))]\n\u001B[0;32m      3\u001B[0m          for x in ['train', 'test', 'trainval']}\n\u001B[0;32m      4\u001B[0m \u001B[1;33m\u001B[0m\u001B[0m\n",
      "\u001B[1;31mNameError\u001B[0m: name 'data_dir' is not defined"
     ]
    }
   ],
   "source": [
    "files = {x: [os.path.join(data_dir, x, 'groundtruth', f) for f in os.listdir(os.path.join(data_dir, x, 'groundtruth')) \n",
    "         if (f.endswith('.jpg') or f.endswith('.png'))]\n",
    "         for x in ['train', 'test', 'trainval']}"
   ]
  },
  {
   "cell_type": "code",
   "execution_count": 4,
   "metadata": {},
   "outputs": [],
   "source": [
    "def disentangleKey(key):\n",
    "    '''\n",
    "        Disentangles the key for class and labels obtained from the\n",
    "        JSON file\n",
    "        Returns a python dictionary of the form:\n",
    "            {Class Id: RGB Color Code as numpy array}\n",
    "    '''\n",
    "    dKey = {}\n",
    "    for i in range(len(key)):\n",
    "        class_id = int(key[i]['id'])\n",
    "        c = key[i]['color']\n",
    "        c = c.split(',')\n",
    "        c0 = int(c[0][1:])\n",
    "        c1 = int(c[1])\n",
    "        c2 = int(c[2][:-1])\n",
    "        color_array = np.asarray([c0,c1,c2])\n",
    "        dKey[class_id] = color_array\n",
    "\n",
    "    return dKey"
   ]
  },
  {
   "cell_type": "code",
   "execution_count": 7,
   "metadata": {},
   "outputs": [
    {
     "ename": "NameError",
     "evalue": "name 'json_path' is not defined",
     "output_type": "error",
     "traceback": [
      "\u001B[1;31m---------------------------------------------------------------------------\u001B[0m",
      "\u001B[1;31mNameError\u001B[0m                                 Traceback (most recent call last)",
      "\u001B[1;32m<ipython-input-7-02f79d6c8090>\u001B[0m in \u001B[0;36m<module>\u001B[1;34m\u001B[0m\n\u001B[0;32m      1\u001B[0m \u001B[1;31m# Get the classes RGB key\u001B[0m\u001B[1;33m\u001B[0m\u001B[1;33m\u001B[0m\u001B[1;33m\u001B[0m\u001B[0m\n\u001B[1;32m----> 2\u001B[1;33m \u001B[0mclasses\u001B[0m \u001B[1;33m=\u001B[0m \u001B[0mjson\u001B[0m\u001B[1;33m.\u001B[0m\u001B[0mload\u001B[0m\u001B[1;33m(\u001B[0m\u001B[0mopen\u001B[0m\u001B[1;33m(\u001B[0m\u001B[0mjson_path\u001B[0m\u001B[1;33m)\u001B[0m\u001B[1;33m)\u001B[0m\u001B[1;33m[\u001B[0m\u001B[1;34m'classes'\u001B[0m\u001B[1;33m]\u001B[0m\u001B[1;33m\u001B[0m\u001B[1;33m\u001B[0m\u001B[0m\n\u001B[0m\u001B[0;32m      3\u001B[0m \u001B[0mkey\u001B[0m \u001B[1;33m=\u001B[0m \u001B[0mdisentangleKey\u001B[0m\u001B[1;33m(\u001B[0m\u001B[0mclasses\u001B[0m\u001B[1;33m)\u001B[0m\u001B[1;33m\u001B[0m\u001B[1;33m\u001B[0m\u001B[0m\n\u001B[0;32m      4\u001B[0m \u001B[1;33m\u001B[0m\u001B[0m\n",
      "\u001B[1;31mNameError\u001B[0m: name 'json_path' is not defined"
     ]
    }
   ],
   "source": [
    "# Get the classes RGB key\n",
    "classes = json.load(open(json_path))['classes']\n",
    "key = disentangleKey(classes)"
   ]
  },
  {
   "cell_type": "code",
   "execution_count": 8,
   "metadata": {},
   "outputs": [
    {
     "ename": "NameError",
     "evalue": "name 'key' is not defined",
     "output_type": "error",
     "traceback": [
      "\u001B[1;31m---------------------------------------------------------------------------\u001B[0m",
      "\u001B[1;31mNameError\u001B[0m                                 Traceback (most recent call last)",
      "\u001B[1;32m<ipython-input-8-599397106a36>\u001B[0m in \u001B[0;36m<module>\u001B[1;34m\u001B[0m\n\u001B[0;32m      1\u001B[0m \u001B[1;31m# Please run only once, otherwise restart kernel and then run again\u001B[0m\u001B[1;33m\u001B[0m\u001B[1;33m\u001B[0m\u001B[1;33m\u001B[0m\u001B[0m\n\u001B[1;32m----> 2\u001B[1;33m \u001B[1;32mfor\u001B[0m \u001B[0mk\u001B[0m \u001B[1;32min\u001B[0m \u001B[0mrange\u001B[0m\u001B[1;33m(\u001B[0m\u001B[0mlen\u001B[0m\u001B[1;33m(\u001B[0m\u001B[0mkey\u001B[0m\u001B[1;33m)\u001B[0m\u001B[1;33m)\u001B[0m\u001B[1;33m:\u001B[0m\u001B[1;33m\u001B[0m\u001B[1;33m\u001B[0m\u001B[0m\n\u001B[0m\u001B[0;32m      3\u001B[0m     \u001B[0mrgb\u001B[0m \u001B[1;33m=\u001B[0m \u001B[0mkey\u001B[0m\u001B[1;33m[\u001B[0m\u001B[0mk\u001B[0m\u001B[1;33m]\u001B[0m\u001B[1;33m\u001B[0m\u001B[1;33m\u001B[0m\u001B[0m\n\u001B[0;32m      4\u001B[0m     \u001B[0mrgb\u001B[0m \u001B[1;33m=\u001B[0m \u001B[0mnp\u001B[0m\u001B[1;33m.\u001B[0m\u001B[0mexpand_dims\u001B[0m\u001B[1;33m(\u001B[0m\u001B[0mrgb\u001B[0m\u001B[1;33m,\u001B[0m \u001B[1;36m0\u001B[0m\u001B[1;33m)\u001B[0m\u001B[1;33m\u001B[0m\u001B[1;33m\u001B[0m\u001B[0m\n\u001B[0;32m      5\u001B[0m     \u001B[1;32mif\u001B[0m \u001B[1;34m'keyMat'\u001B[0m \u001B[1;32min\u001B[0m \u001B[0mlocals\u001B[0m\u001B[1;33m(\u001B[0m\u001B[1;33m)\u001B[0m\u001B[1;33m:\u001B[0m\u001B[1;33m\u001B[0m\u001B[1;33m\u001B[0m\u001B[0m\n",
      "\u001B[1;31mNameError\u001B[0m: name 'key' is not defined"
     ]
    }
   ],
   "source": [
    "# Please run only once, otherwise restart kernel and then run again\n",
    "for k in range(len(key)):\n",
    "    rgb = key[k]\n",
    "    rgb = np.expand_dims(rgb, 0)\n",
    "    if 'keyMat' in locals():\n",
    "        keyMat = np.concatenate((keyMat, rgb), axis=0)\n",
    "    else:\n",
    "        keyMat = rgb"
   ]
  },
  {
   "cell_type": "code",
   "execution_count": null,
   "metadata": {},
   "outputs": [],
   "source": [
    "# Iterate over all images to smooth them\n",
    "x = ['train', 'test', 'trainval']\n",
    "for i in range(len(files)):\n",
    "    folder = files[x[i]]\n",
    "    save_sub_dir = os.path.join(save_dir, x[i], 'groundtruth')\n",
    "    if not os.path.exists(save_sub_dir):\n",
    "        os.makedirs(save_sub_dir)\n",
    "        \n",
    "    for j in range(len(folder)):\n",
    "        img = cv2.imread(folder[j])\n",
    "        img = cv2.cvtColor(img, cv2.COLOR_BGR2RGB)\n",
    "        refined = np.zeros_like(img)\n",
    "        \n",
    "        # Iterate over all image pixels\n",
    "        # TODO: Vectorize this\n",
    "        for h in range(img.shape[0]):\n",
    "            for w in range(img.shape[1]):\n",
    "                \n",
    "                label = np.argmin(np.linalg.norm(np.subtract(img[h,w,:], keyMat), axis = 1))\n",
    "                rgb = key[label]\n",
    "                refined[h,w,:] = rgb\n",
    "        \n",
    "        # Apply median filtering to remove the salt pepper noise produced at image boundaries\n",
    "        refined = cv2.medianBlur(refined, 5)\n",
    "        \n",
    "        # Save the image\n",
    "        refined = cv2.cvtColor(refined, cv2.COLOR_BGR2RGB)\n",
    "        file_name = folder[j].split('/')[-1].split('.')[0] + '.png'\n",
    "        save_path = os.path.join(save_sub_dir, file_name)\n",
    "        cv2.imwrite(save_path, refined)\n",
    "        print('Image: [%d]/[%d]: Folder: [%d]/[%d]' % (j+1, len(folder), i+1, len(files)))"
   ]
  },
  {
   "cell_type": "code",
   "execution_count": null,
   "metadata": {},
   "outputs": [],
   "source": []
  }
 ],
 "metadata": {
  "kernelspec": {
   "name": "pycharm-f7ddcefd",
   "language": "python",
   "display_name": "PyCharm (segmentationNetworks)"
  },
  "language_info": {
   "codemirror_mode": {
    "name": "ipython",
    "version": 3
   },
   "file_extension": ".py",
   "mimetype": "text/x-python",
   "name": "python",
   "nbconvert_exporter": "python",
   "pygments_lexer": "ipython3",
   "version": "3.5.2"
  }
 },
 "nbformat": 4,
 "nbformat_minor": 2
}